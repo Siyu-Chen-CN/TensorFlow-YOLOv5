{
 "cells": [
  {
   "cell_type": "code",
   "execution_count": 1,
   "metadata": {},
   "outputs": [],
   "source": [
    "import tensorflow as tf"
   ]
  },
  {
   "cell_type": "markdown",
   "metadata": {},
   "source": [
    "### Operation type\n",
    "- element-wise\n",
    "    - +-*/\n",
    "- matrix-wise\n",
    "    - @, matmul\n",
    "- dim-wise\n",
    "    - reduce_mean/max/min/sum"
   ]
  },
  {
   "cell_type": "code",
   "execution_count": 3,
   "metadata": {},
   "outputs": [
    {
     "data": {
      "text/plain": [
       "<tf.Tensor: shape=(2, 2), dtype=float32, numpy=\n",
       "array([[0., 0.],\n",
       "       [0., 0.]], dtype=float32)>"
      ]
     },
     "execution_count": 3,
     "metadata": {},
     "output_type": "execute_result"
    }
   ],
   "source": [
    "# tf.math.log tf.experimental\n",
    "a = tf.ones([2, 2])\n",
    "tf.math.log(a)"
   ]
  },
  {
   "cell_type": "code",
   "execution_count": 4,
   "metadata": {},
   "outputs": [
    {
     "data": {
      "text/plain": [
       "<tf.Tensor: shape=(2, 2), dtype=float32, numpy=\n",
       "array([[2.7182817, 2.7182817],\n",
       "       [2.7182817, 2.7182817]], dtype=float32)>"
      ]
     },
     "execution_count": 4,
     "metadata": {},
     "output_type": "execute_result"
    }
   ],
   "source": [
    "tf.exp(a)"
   ]
  },
  {
   "cell_type": "code",
   "execution_count": 6,
   "metadata": {},
   "outputs": [
    {
     "data": {
      "text/plain": [
       "<tf.Tensor: shape=(4, 2, 5), dtype=float32, numpy=\n",
       "array([[[6., 6., 6., 6., 6.],\n",
       "        [6., 6., 6., 6., 6.]],\n",
       "\n",
       "       [[6., 6., 6., 6., 6.],\n",
       "        [6., 6., 6., 6., 6.]],\n",
       "\n",
       "       [[6., 6., 6., 6., 6.],\n",
       "        [6., 6., 6., 6., 6.]],\n",
       "\n",
       "       [[6., 6., 6., 6., 6.],\n",
       "        [6., 6., 6., 6., 6.]]], dtype=float32)>"
      ]
     },
     "execution_count": 6,
     "metadata": {},
     "output_type": "execute_result"
    }
   ],
   "source": [
    "# @matmul\n",
    "a = tf.ones([4, 2, 3])\n",
    "b = tf.fill([4, 3, 5], 2.)\n",
    "a@b\n",
    "tf.matmul(a, b)"
   ]
  },
  {
   "cell_type": "markdown",
   "metadata": {},
   "source": [
    "#### Recap\n",
    "- y = w * x + b\n",
    "- Y = X@W + b\n",
    "- 标量的形式决定了运算的规则"
   ]
  },
  {
   "cell_type": "code",
   "execution_count": null,
   "metadata": {},
   "outputs": [],
   "source": []
  }
 ],
 "metadata": {
  "kernelspec": {
   "display_name": "base",
   "language": "python",
   "name": "python3"
  },
  "language_info": {
   "codemirror_mode": {
    "name": "ipython",
    "version": 3
   },
   "file_extension": ".py",
   "mimetype": "text/x-python",
   "name": "python",
   "nbconvert_exporter": "python",
   "pygments_lexer": "ipython3",
   "version": "3.9.13"
  }
 },
 "nbformat": 4,
 "nbformat_minor": 2
}
