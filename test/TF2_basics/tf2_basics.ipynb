{
 "cells": [
  {
   "cell_type": "code",
   "execution_count": 28,
   "metadata": {},
   "outputs": [],
   "source": [
    "import tensorflow as tf\n",
    "import numpy as np\n",
    "import keras\n",
    "from keras import layers"
   ]
  },
  {
   "cell_type": "code",
   "execution_count": 5,
   "metadata": {},
   "outputs": [
    {
     "data": {
      "text/plain": [
       "<tf.Tensor: shape=(2, 3), dtype=float32, numpy=\n",
       "array([[1., 1., 1.],\n",
       "       [1., 1., 1.]], dtype=float32)>"
      ]
     },
     "execution_count": 5,
     "metadata": {},
     "output_type": "execute_result"
    }
   ],
   "source": [
    "# from numpy, list\n",
    "# 直接从numpy创建一个tensor\n",
    "tf.convert_to_tensor(np.ones([2, 3]), dtype=float)"
   ]
  },
  {
   "cell_type": "code",
   "execution_count": 6,
   "metadata": {},
   "outputs": [
    {
     "data": {
      "text/plain": [
       "<tf.Tensor: shape=(2, 3, 3), dtype=float32, numpy=\n",
       "array([[[0., 0., 0.],\n",
       "        [0., 0., 0.],\n",
       "        [0., 0., 0.]],\n",
       "\n",
       "       [[0., 0., 0.],\n",
       "        [0., 0., 0.],\n",
       "        [0., 0., 0.]]], dtype=float32)>"
      ]
     },
     "execution_count": 6,
     "metadata": {},
     "output_type": "execute_result"
    }
   ],
   "source": [
    "# tf.zeros\n",
    "# 新建全为某种数值的方法\n",
    "tf.zeros([])  # tf.zeros([1, 2])这里是把[1, 2]理解为一个shape\n",
    "\n",
    "# 这里面传入的全部都是shape\n",
    "tf.zeros([1])\n",
    "tf.zeros([2, 2])\n",
    "tf.zeros([2, 3, 3])"
   ]
  },
  {
   "cell_type": "code",
   "execution_count": 10,
   "metadata": {},
   "outputs": [
    {
     "data": {
      "text/plain": [
       "<tf.Tensor: shape=(2, 3, 3), dtype=float32, numpy=\n",
       "array([[[0., 0., 0.],\n",
       "        [0., 0., 0.],\n",
       "        [0., 0., 0.]],\n",
       "\n",
       "       [[0., 0., 0.],\n",
       "        [0., 0., 0.],\n",
       "        [0., 0., 0.]]], dtype=float32)>"
      ]
     },
     "execution_count": 10,
     "metadata": {},
     "output_type": "execute_result"
    }
   ],
   "source": [
    "# zeros_like, 根据你传进来的一个tensor来创建一个形状一样的tensor，但是数值全部都是zeros\n",
    "a = tf.zeros([2, 3, 3])\n",
    "tf.zeros_like(a)\n",
    "\n",
    "# 等同于下面这个写法,通用的\n",
    "tf.zeros(a.shape)"
   ]
  },
  {
   "cell_type": "code",
   "execution_count": 11,
   "metadata": {},
   "outputs": [
    {
     "data": {
      "text/plain": [
       "<tf.Tensor: shape=(2, 3, 3), dtype=float32, numpy=\n",
       "array([[[1., 1., 1.],\n",
       "        [1., 1., 1.],\n",
       "        [1., 1., 1.]],\n",
       "\n",
       "       [[1., 1., 1.],\n",
       "        [1., 1., 1.],\n",
       "        [1., 1., 1.]]], dtype=float32)>"
      ]
     },
     "execution_count": 11,
     "metadata": {},
     "output_type": "execute_result"
    }
   ],
   "source": [
    "# 初始化全部为1\n",
    "tf.ones(1)\n",
    "tf.ones([])\n",
    "tf.ones([2])\n",
    "tf.ones([2, 3])\n",
    "\n",
    "# 相当于tf.ones(a.shape)\n",
    "tf.ones_like(a)"
   ]
  },
  {
   "cell_type": "code",
   "execution_count": 13,
   "metadata": {},
   "outputs": [
    {
     "data": {
      "text/plain": [
       "<tf.Tensor: shape=(2, 2), dtype=int32, numpy=\n",
       "array([[9, 9],\n",
       "       [9, 9]])>"
      ]
     },
     "execution_count": 13,
     "metadata": {},
     "output_type": "execute_result"
    }
   ],
   "source": [
    "# 对于wx+b这种线性回归问题，一般来说会把w全部初始化为1，b初始化为0\n",
    "# 如果都不想，则可以使用fill，填充任意相同值\n",
    "tf.fill([2, 2], 0)\n",
    "tf.fill([2, 2], 9)\n",
    "# 第一个element填初始化的shape，第二个element填初始化的值"
   ]
  },
  {
   "cell_type": "code",
   "execution_count": 16,
   "metadata": {},
   "outputs": [
    {
     "data": {
      "text/plain": [
       "<tf.Tensor: shape=(2, 2), dtype=float32, numpy=\n",
       "array([[97.143684 , 78.18048  ],\n",
       "       [17.299759 ,  6.3827634]], dtype=float32)>"
      ]
     },
     "execution_count": 16,
     "metadata": {},
     "output_type": "execute_result"
    }
   ],
   "source": [
    "# 随机化的初始化\n",
    "# 正态分布\n",
    "tf.random.normal([2, 2], mean=1, stddev=1)\n",
    "tf.random.normal([2, 2])\n",
    "tf.random.truncated_normal([2, 2], mean=0, stddev=1)\n",
    "\n",
    "# 均匀分布\n",
    "tf.random.uniform([2, 2], minval=0, maxval=1)\n",
    "tf.random.uniform([2, 2], minval=0, maxval=100)"
   ]
  },
  {
   "cell_type": "code",
   "execution_count": 19,
   "metadata": {},
   "outputs": [],
   "source": [
    "# ig. 实现打散index的功能\n",
    "idx = tf.range(10)\n",
    "idx = tf.random.shuffle(idx)\n",
    "\n",
    "a = tf.random.normal([10, 784])\n",
    "b = tf.random.uniform([10], maxval=10, dtype=tf.int32)\n",
    "\n",
    "a = tf.gather(a, idx)\n",
    "b = tf.gather(b, idx)"
   ]
  },
  {
   "cell_type": "code",
   "execution_count": 21,
   "metadata": {},
   "outputs": [
    {
     "data": {
      "text/plain": [
       "<tf.Tensor: shape=(2, 2), dtype=float32, numpy=\n",
       "array([[1., 2.],\n",
       "       [3., 1.]], dtype=float32)>"
      ]
     },
     "execution_count": 21,
     "metadata": {},
     "output_type": "execute_result"
    }
   ],
   "source": [
    "# tf.constant, 和tf.convert_to_tensor基本上功能是重合的\n",
    "tf.constant(1)\n",
    "\n",
    "tf.constant([1])\n",
    "\n",
    "tf.constant([1, 2.])\n",
    "\n",
    "# 用constant设定维度时必须是一致的，\n",
    "tf.constant([[1, 2.], [3., 1.]])"
   ]
  },
  {
   "cell_type": "code",
   "execution_count": 22,
   "metadata": {},
   "outputs": [],
   "source": [
    "# Typical Dim Data\n",
    "# 1. Scalar: []  loss = (mse(out, y))\n",
    "# 2. Vector\n",
    "# 3. Martrix    input x: [b, vec_dim]\n",
    "# 4. Tensor     Dim=3,常用于自然语言中间"
   ]
  },
  {
   "cell_type": "code",
   "execution_count": 26,
   "metadata": {},
   "outputs": [],
   "source": [
    "# e.g. Loss\n",
    "out = tf.random.uniform([4, 10])\n",
    "y = tf.range(4)\n",
    "y = tf.one_hot(y, depth=10)\n",
    "\n",
    "# 这里keras.losses.MeanSquaredError是一个类而不是一个函数，需要先创建一个实例，然后在使用该实例计算损失\n",
    "# 1. loss = keras.losses.MeanSquaredError\n",
    "# 2. loss = loss(y, out)\n",
    "loss = keras.losses.MeanSquaredError()(y, out)\n",
    "\n",
    "loss = tf.reduce_mean(loss)\n"
   ]
  },
  {
   "cell_type": "code",
   "execution_count": 30,
   "metadata": {},
   "outputs": [
    {
     "data": {
      "text/plain": [
       "<KerasVariable shape=(10,), dtype=float32, path=dense_1/bias>"
      ]
     },
     "execution_count": 30,
     "metadata": {},
     "output_type": "execute_result"
    }
   ],
   "source": [
    "# e.g. Vector\n",
    "\n",
    "net = layers.Dense(10)\n",
    "net.build((4, 8))\n",
    "net.kernel\n",
    "net.bias"
   ]
  },
  {
   "cell_type": "code",
   "execution_count": 37,
   "metadata": {},
   "outputs": [
    {
     "data": {
      "text/plain": [
       "TensorShape([10])"
      ]
     },
     "execution_count": 37,
     "metadata": {},
     "output_type": "execute_result"
    }
   ],
   "source": [
    "# e.g. Matrix\n",
    "x = tf.random.normal([4, 784])\n",
    "\n",
    "net = layers.Dense(10)\n",
    "net.build((4, 784))\n",
    "\n",
    "net(x).shape\n",
    "# [4, 10]\n",
    "\n",
    "net.kernel.shape\n",
    "# [784, 10]\n",
    "\n",
    "net.bias.shape\n",
    "# [10]"
   ]
  },
  {
   "cell_type": "code",
   "execution_count": null,
   "metadata": {},
   "outputs": [],
   "source": [
    "# e.g. Tensor\n",
    "# x:[b, seq_len, word_dim]\n",
    "(X_train, y_train), (X_test, y_test) = keras.datasets.imdb.load_data(num_words=10000)\n",
    "x_train = keras.preprocessing.sequence.pad_sequences(X_train, maxlen=80)\n",
    "x_train.shape\n",
    "\n",
    "emb = layers.Embedding(x_train)\n",
    "emb.shape\n",
    "\n",
    "out = rnn(emb[:4])\n",
    "out.shape\n",
    "# out： TensorShape([4, 256])\n"
   ]
  },
  {
   "cell_type": "code",
   "execution_count": null,
   "metadata": {},
   "outputs": [],
   "source": [
    "# e.g. dim=4 Tensor \n",
    "# Image: [b, h, w, 3]\n",
    "# future maps: [b, h, w, c]\n",
    "x = tf.random.normal((4, 32, 32, 3))\n",
    "net = layers.Conv2D(16, kernel_size=3)\n",
    "net(x)"
   ]
  },
  {
   "cell_type": "code",
   "execution_count": null,
   "metadata": {},
   "outputs": [],
   "source": [
    "# e.g. dim=5 Tensor\n",
    "# meta-learning : 把一个数据集分割为多个任务\n",
    "# [task_b, b, h, w, 3]\n"
   ]
  }
 ],
 "metadata": {
  "kernelspec": {
   "display_name": "base",
   "language": "python",
   "name": "python3"
  },
  "language_info": {
   "codemirror_mode": {
    "name": "ipython",
    "version": 3
   },
   "file_extension": ".py",
   "mimetype": "text/x-python",
   "name": "python",
   "nbconvert_exporter": "python",
   "pygments_lexer": "ipython3",
   "version": "3.9.13"
  }
 },
 "nbformat": 4,
 "nbformat_minor": 2
}
